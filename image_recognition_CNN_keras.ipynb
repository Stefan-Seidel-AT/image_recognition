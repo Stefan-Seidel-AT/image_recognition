{
 "cells": [
  {
   "cell_type": "code",
   "execution_count": 1,
   "id": "86c3e0c9-85a2-4cc8-86ca-17e6d8af98d9",
   "metadata": {},
   "outputs": [],
   "source": [
    "# prevent cuda error\n",
    "import os\n",
    "os.environ['TF_CPP_MIN_LOG_LEVEL'] = '3' "
   ]
  },
  {
   "cell_type": "code",
   "execution_count": 2,
   "id": "1993b5fc-1909-4583-ae27-a02170067911",
   "metadata": {},
   "outputs": [],
   "source": [
    "import tensorflow\n",
    "import numpy\n",
    "from tensorflow import keras\n",
    "from keras.constraints import maxnorm\n",
    "from keras.utils import np_utils"
   ]
  },
  {
   "cell_type": "code",
   "execution_count": 3,
   "id": "bdd854cd-2917-46ac-abe8-591064b96068",
   "metadata": {},
   "outputs": [],
   "source": [
    "# tutorial from:\n",
    "# https://stackabuse.com/image-recognition-in-python-with-tensorflow-and-keras/"
   ]
  },
  {
   "cell_type": "code",
   "execution_count": 4,
   "id": "50dd7f2f-d754-4f6a-bb94-cecfe7bf1d23",
   "metadata": {},
   "outputs": [],
   "source": [
    "# Set random seed for purposes of reproducibility\n",
    "seed = 21"
   ]
  },
  {
   "cell_type": "code",
   "execution_count": 5,
   "id": "4a60b1eb-bb05-4341-abe9-cd42aacda6d5",
   "metadata": {},
   "outputs": [],
   "source": [
    "# prepare data\n",
    "from keras.datasets import cifar10"
   ]
  },
  {
   "cell_type": "code",
   "execution_count": 6,
   "id": "b27c8fed-76ad-491b-a5eb-f8e4587a8001",
   "metadata": {},
   "outputs": [
    {
     "name": "stdout",
     "output_type": "stream",
     "text": [
      "Downloading data from https://www.cs.toronto.edu/~kriz/cifar-10-python.tar.gz\n",
      "170500096/170498071 [==============================] - 95s 1us/step\n",
      "170508288/170498071 [==============================] - 95s 1us/step\n"
     ]
    }
   ],
   "source": [
    "# Loading the data \n",
    "(X_train, y_train), (X_test, y_test) = cifar10.load_data()"
   ]
  },
  {
   "cell_type": "code",
   "execution_count": null,
   "id": "aae485dc-be66-40a1-a424-db667f14215f",
   "metadata": {},
   "outputs": [],
   "source": []
  },
  {
   "cell_type": "code",
   "execution_count": 7,
   "id": "f8ecd834-ff37-4698-a842-fa89047e228f",
   "metadata": {},
   "outputs": [],
   "source": [
    "# Normalize the inputs from 0-255 to between 0 and 1 by dividing by 255\n",
    "X_train = X_train.astype('float32')\n",
    "X_test = X_test.astype('float32')\n",
    "X_train = X_train / 255.0\n",
    "X_test = X_test / 255.0"
   ]
  },
  {
   "cell_type": "code",
   "execution_count": 8,
   "id": "577fdbce-2ce6-4505-8972-a651b960932a",
   "metadata": {},
   "outputs": [],
   "source": [
    "# One-hot encode outputs\n",
    "y_train = np_utils.to_categorical(y_train)\n",
    "y_test = np_utils.to_categorical(y_test)\n",
    "class_num = y_test.shape[1]"
   ]
  },
  {
   "cell_type": "code",
   "execution_count": 9,
   "id": "0910cce0-28a9-48fa-a4a0-896fcb29b1c8",
   "metadata": {},
   "outputs": [],
   "source": [
    "# Design the CNN-model:\n",
    "# Create a model: sequential is the most commonly used\n",
    "model = keras.Sequential()"
   ]
  },
  {
   "cell_type": "code",
   "execution_count": 10,
   "id": "722c49ab-fca2-4f9f-acd9-24510c68b9c4",
   "metadata": {},
   "outputs": [
    {
     "name": "stdout",
     "output_type": "stream",
     "text": [
      "Model: \"sequential\"\n",
      "_________________________________________________________________\n",
      "Layer (type)                 Output Shape              Param #   \n",
      "=================================================================\n",
      "conv2d (Conv2D)              (None, 32, 32, 32)        896       \n",
      "_________________________________________________________________\n",
      "dropout (Dropout)            (None, 32, 32, 32)        0         \n",
      "_________________________________________________________________\n",
      "batch_normalization (BatchNo (None, 32, 32, 32)        128       \n",
      "_________________________________________________________________\n",
      "conv2d_1 (Conv2D)            (None, 32, 32, 64)        18496     \n",
      "_________________________________________________________________\n",
      "max_pooling2d (MaxPooling2D) (None, 16, 16, 64)        0         \n",
      "_________________________________________________________________\n",
      "dropout_1 (Dropout)          (None, 16, 16, 64)        0         \n",
      "_________________________________________________________________\n",
      "batch_normalization_1 (Batch (None, 16, 16, 64)        256       \n",
      "_________________________________________________________________\n",
      "conv2d_2 (Conv2D)            (None, 16, 16, 64)        36928     \n",
      "_________________________________________________________________\n",
      "max_pooling2d_1 (MaxPooling2 (None, 8, 8, 64)          0         \n",
      "_________________________________________________________________\n",
      "dropout_2 (Dropout)          (None, 8, 8, 64)          0         \n",
      "_________________________________________________________________\n",
      "batch_normalization_2 (Batch (None, 8, 8, 64)          256       \n",
      "_________________________________________________________________\n",
      "conv2d_3 (Conv2D)            (None, 8, 8, 128)         73856     \n",
      "_________________________________________________________________\n",
      "dropout_3 (Dropout)          (None, 8, 8, 128)         0         \n",
      "_________________________________________________________________\n",
      "batch_normalization_3 (Batch (None, 8, 8, 128)         512       \n",
      "_________________________________________________________________\n",
      "flatten (Flatten)            (None, 8192)              0         \n",
      "_________________________________________________________________\n",
      "dropout_4 (Dropout)          (None, 8192)              0         \n",
      "_________________________________________________________________\n",
      "dense (Dense)                (None, 32)                262176    \n",
      "_________________________________________________________________\n",
      "dropout_5 (Dropout)          (None, 32)                0         \n",
      "_________________________________________________________________\n",
      "batch_normalization_4 (Batch (None, 32)                128       \n",
      "_________________________________________________________________\n",
      "dense_1 (Dense)              (None, 10)                330       \n",
      "=================================================================\n",
      "Total params: 393,962\n",
      "Trainable params: 393,322\n",
      "Non-trainable params: 640\n",
      "_________________________________________________________________\n",
      "None\n"
     ]
    }
   ],
   "source": [
    "\n",
    "#\n",
    "model.add(keras.layers.Conv2D(32, 3, input_shape=(32, 32, 3), activation='relu', padding='same'))\n",
    "#  ( filter size = 32 , \n",
    "#    filter layers = 3 ,\n",
    "#   \"relu\" is very commonly used\n",
    "#   padding = 'same' means picture size stays the same\n",
    "model.add(keras.layers.Dropout(0.2)) # 20% of neural connection removed to avoid overfitting\n",
    "model.add(keras.layers.BatchNormalization())\n",
    "\n",
    "# cave: filter size is increasing by factor 2 (reduction of computational resources?) \n",
    "model.add(keras.layers.Conv2D(64, (3, 3), padding='same', activation='relu'))\n",
    "model.add(keras.layers.MaxPooling2D(2))\n",
    "model.add(keras.layers.Dropout(0.2))\n",
    "model.add(keras.layers.BatchNormalization())\n",
    "\n",
    "model.add(keras.layers.Conv2D(64, 3, padding='same', activation='relu'))\n",
    "model.add(keras.layers.MaxPooling2D(2))\n",
    "model.add(keras.layers.Dropout(0.2))\n",
    "model.add(keras.layers.BatchNormalization())\n",
    "    \n",
    "model.add(keras.layers.Conv2D(128, (3, 3), padding='same', activation='relu'))\n",
    "model.add(keras.layers.Dropout(0.2))\n",
    "model.add(keras.layers.BatchNormalization())\n",
    "\n",
    "model.add(keras.layers.Flatten())\n",
    "model.add(keras.layers.Dropout(0.2))\n",
    "model.add(keras.layers.Dense(32, activation='relu'))\n",
    "model.add(keras.layers.Dropout(0.3))\n",
    "model.add(keras.layers.BatchNormalization())\n",
    "\n",
    "model.add(keras.layers.Dense(class_num, activation='softmax'))\n",
    "\n",
    "model.compile(loss='categorical_crossentropy', optimizer='adam', metrics=['accuracy'])\n",
    "\n",
    "print(model.summary())\n"
   ]
  },
  {
   "cell_type": "code",
   "execution_count": 11,
   "id": "39a89f77-bcdc-458e-ac93-5db0dac8af7d",
   "metadata": {},
   "outputs": [
    {
     "name": "stdout",
     "output_type": "stream",
     "text": [
      "Epoch 1/15\n",
      "782/782 [==============================] - 263s 332ms/step - loss: 1.5633 - accuracy: 0.4440 - val_loss: 1.1415 - val_accuracy: 0.5843\n",
      "Epoch 2/15\n",
      "782/782 [==============================] - 339s 434ms/step - loss: 1.1319 - accuracy: 0.6006 - val_loss: 0.9044 - val_accuracy: 0.6812\n",
      "Epoch 3/15\n",
      "782/782 [==============================] - 376s 480ms/step - loss: 0.9821 - accuracy: 0.6590 - val_loss: 0.9904 - val_accuracy: 0.6591\n",
      "Epoch 4/15\n",
      "782/782 [==============================] - 295s 378ms/step - loss: 0.8877 - accuracy: 0.6920 - val_loss: 0.7629 - val_accuracy: 0.7346\n",
      "Epoch 5/15\n",
      "782/782 [==============================] - 265s 339ms/step - loss: 0.8194 - accuracy: 0.7159 - val_loss: 0.7415 - val_accuracy: 0.7368\n",
      "Epoch 6/15\n",
      "782/782 [==============================] - 256s 327ms/step - loss: 0.7755 - accuracy: 0.7326 - val_loss: 0.6784 - val_accuracy: 0.7655\n",
      "Epoch 7/15\n",
      "782/782 [==============================] - 254s 325ms/step - loss: 0.7388 - accuracy: 0.7465 - val_loss: 0.6536 - val_accuracy: 0.7788\n",
      "Epoch 8/15\n",
      "782/782 [==============================] - 258s 329ms/step - loss: 0.6993 - accuracy: 0.7587 - val_loss: 0.6303 - val_accuracy: 0.7790\n",
      "Epoch 9/15\n",
      "782/782 [==============================] - 255s 326ms/step - loss: 0.6736 - accuracy: 0.7670 - val_loss: 0.5772 - val_accuracy: 0.8014\n",
      "Epoch 10/15\n",
      "782/782 [==============================] - 254s 325ms/step - loss: 0.6438 - accuracy: 0.7776 - val_loss: 0.6369 - val_accuracy: 0.7832\n",
      "Epoch 11/15\n",
      "782/782 [==============================] - 253s 323ms/step - loss: 0.6254 - accuracy: 0.7837 - val_loss: 0.6296 - val_accuracy: 0.7879\n",
      "Epoch 12/15\n",
      "782/782 [==============================] - 253s 323ms/step - loss: 0.6064 - accuracy: 0.7921 - val_loss: 0.5766 - val_accuracy: 0.8002\n",
      "Epoch 13/15\n",
      "782/782 [==============================] - 255s 326ms/step - loss: 0.5905 - accuracy: 0.7943 - val_loss: 0.6017 - val_accuracy: 0.7988\n",
      "Epoch 14/15\n",
      "782/782 [==============================] - 250s 320ms/step - loss: 0.5748 - accuracy: 0.8016 - val_loss: 0.5709 - val_accuracy: 0.8067\n",
      "Epoch 15/15\n",
      "782/782 [==============================] - 251s 321ms/step - loss: 0.5665 - accuracy: 0.8039 - val_loss: 0.6268 - val_accuracy: 0.7834\n"
     ]
    }
   ],
   "source": [
    "numpy.random.seed(seed)\n",
    "# lepoches set to 15 (instead of 25 because it would neet to long)\n",
    "history = model.fit(X_train, y_train, validation_data=(X_test, y_test), epochs=15, batch_size=64)\n"
   ]
  },
  {
   "cell_type": "code",
   "execution_count": 12,
   "id": "18efc41c-5726-469a-bd59-8279b102dcf7",
   "metadata": {},
   "outputs": [
    {
     "data": {
      "text/plain": [
       "[0.6267770528793335, 0.7833999991416931]"
      ]
     },
     "execution_count": 12,
     "metadata": {},
     "output_type": "execute_result"
    }
   ],
   "source": [
    "model.evaluate(X_test, y_test, verbose=0)"
   ]
  },
  {
   "cell_type": "code",
   "execution_count": 15,
   "id": "65725f50-40ca-4275-9e8d-d28594d7deea",
   "metadata": {},
   "outputs": [
    {
     "name": "stdout",
     "output_type": "stream",
     "text": [
      "Accuracy: 78.34%\n"
     ]
    }
   ],
   "source": [
    "scores = model.evaluate(X_test, y_test, verbose=0)\n",
    "print(\"Accuracy: %.2f%%\" % (scores[1]*100))"
   ]
  },
  {
   "cell_type": "code",
   "execution_count": 13,
   "id": "1de45f60-766f-4536-a1d7-5c3dc1171c1b",
   "metadata": {},
   "outputs": [
    {
     "data": {
      "image/png": "[encoded data removed]",
      "text/plain": [
       "<Figure size 432x288 with 1 Axes>"
      ]
     },
     "metadata": {
      "needs_background": "light"
     },
     "output_type": "display_data"
    }
   ],
   "source": [
    "import pandas as pd\n",
    "import matplotlib.pyplot as plt\n",
    "\n",
    "pd.DataFrame(history.history).plot()\n",
    "plt.show()\n"
   ]
  },
  {
   "cell_type": "code",
   "execution_count": null,
   "id": "a98e471b-b73e-49e4-a056-6ede45f93b8f",
   "metadata": {},
   "outputs": [],
   "source": []
  }
 ],
 "metadata": {
  "kernelspec": {
   "display_name": "Python 3 (ipykernel)",
   "language": "python",
   "name": "python3"
  },
  "language_info": {
   "codemirror_mode": {
    "name": "ipython",
    "version": 3
   },
   "file_extension": ".py",
   "mimetype": "text/x-python",
   "name": "python",
   "nbconvert_exporter": "python",
   "pygments_lexer": "ipython3",
   "version": "3.9.10"
  }
 },
 "nbformat": 4,
 "nbformat_minor": 5
}
